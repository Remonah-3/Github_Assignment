{
  "nbformat": 4,
  "nbformat_minor": 0,
  "metadata": {
    "colab": {
      "provenance": [],
      "authorship_tag": "ABX9TyPWbfsGEPi4rn3CoGynknPU",
      "include_colab_link": true
    },
    "kernelspec": {
      "name": "python3",
      "display_name": "Python 3"
    },
    "language_info": {
      "name": "python"
    }
  },
  "cells": [
    {
      "cell_type": "markdown",
      "metadata": {
        "id": "view-in-github",
        "colab_type": "text"
      },
      "source": [
        "<a href=\"https://colab.research.google.com/github/Remonah-3/Github_Assignment/blob/master/SimpleConv1d.ipynb\" target=\"_parent\"><img src=\"https://colab.research.google.com/assets/colab-badge.svg\" alt=\"Open In Colab\"/></a>"
      ]
    },
    {
      "cell_type": "code",
      "execution_count": null,
      "metadata": {
        "id": "7dCIlsxozNWa"
      },
      "outputs": [],
      "source": [
        "import numpy as np\n",
        "\n",
        "class SimpleConv1d:\n",
        "    def __init__(self, filter_size, learning_rate=0.01):\n",
        "        self.filter_size = filter_size\n",
        "        self.learning_rate = learning_rate\n",
        "        # Xavier initialization (float)\n",
        "        self.w = np.random.randn(filter_size).astype(float) * np.sqrt(1.0 / filter_size)\n",
        "        self.b = 0.0\n",
        "\n",
        "    def forward(self, x):\n",
        "        self.x = x.astype(float)\n",
        "        output_length = len(self.x) - self.filter_size + 1\n",
        "        self.a = np.empty(output_length, dtype=float)\n",
        "        for i in range(output_length):\n",
        "            self.a[i] = np.sum(self.x[i:i+self.filter_size] * self.w) + self.b\n",
        "        return self.a\n",
        "\n",
        "    def backward(self, delta_a):\n",
        "        delta_w = np.zeros_like(self.w, dtype=float)\n",
        "        delta_b = np.sum(delta_a)\n",
        "        delta_x = np.zeros_like(self.x, dtype=float)\n"
      ]
    },
    {
      "cell_type": "code",
      "source": [
        "def conv1d_output_size(input_size, filter_size, padding=0, stride=1):\n",
        "    return (input_size + 2*padding - filter_size)//stride + 1\n",
        "\n",
        "print(conv1d_output_size(4, 3))\n"
      ],
      "metadata": {
        "colab": {
          "base_uri": "https://localhost:8080/"
        },
        "id": "58ojokkuzPHL",
        "outputId": "32e5c013-5da7-4a35-d05c-9afe6257ed8a"
      },
      "execution_count": null,
      "outputs": [
        {
          "output_type": "stream",
          "name": "stdout",
          "text": [
            "2\n"
          ]
        }
      ]
    },
    {
      "cell_type": "code",
      "source": [
        "x = np.array([1, 2, 3, 4], dtype=float)\n",
        "w = np.array([3, 5, 7], dtype=float)\n",
        "b = 1.0\n",
        "\n",
        "conv = SimpleConv1d(filter_size=3)\n",
        "conv.w = w.copy()\n",
        "conv.b = b\n",
        "\n",
        "# Forward\n",
        "a = conv.forward(x)\n",
        "print(\"Forward output:\", a)\n",
        "\n",
        "# Backward\n",
        "delta_a = np.array([10, 20], dtype=float)\n",
        "delta_x = conv.backward(delta_a)\n",
        "print(\"Updated w:\", conv.w)\n",
        "print(\"Updated b:\", conv.b)\n",
        "print(\"Delta x:\", delta_x)\n"
      ],
      "metadata": {
        "colab": {
          "base_uri": "https://localhost:8080/"
        },
        "id": "gfYEE2ymzPRx",
        "outputId": "1458210e-d875-47c6-8f0c-5e411b7c46dd"
      },
      "execution_count": null,
      "outputs": [
        {
          "output_type": "stream",
          "name": "stdout",
          "text": [
            "Forward output: [35. 50.]\n",
            "Updated w: [3. 5. 7.]\n",
            "Updated b: 1.0\n",
            "Delta x: None\n"
          ]
        }
      ]
    },
    {
      "cell_type": "code",
      "source": [
        "class Conv1d:\n",
        "    def __init__(self, input_channels, output_channels, filter_size, learning_rate=0.01):\n",
        "        self.input_channels = input_channels\n",
        "        self.output_channels = output_channels\n",
        "        self.filter_size = filter_size\n",
        "        self.lr = learning_rate\n",
        "\n",
        "        # Weights: (output_channels, input_channels, filter_size) float\n",
        "        self.w = np.random.randn(output_channels, input_channels, filter_size).astype(float) * np.sqrt(1.0/filter_size)\n",
        "        self.b = np.zeros(output_channels, dtype=float)\n",
        "\n",
        "    def forward(self, x):\n",
        "        self.x = x.astype(float)\n",
        "        output_length = x.shape[1] - self.filter_size + 1\n",
        "        a = np.zeros((self.output_channels, output_length), dtype=float)\n",
        "\n",
        "        for o in range(self.output_channels):\n",
        "            for i in range(self.input_channels):\n",
        "                for j in range(output_length):\n",
        "                    a[o, j] += np.sum(self.x[i, j:j+self.filter_size] * self.w[o, i])\n",
        "            a[o] += self.b[o]\n",
        "\n",
        "        self.a = a\n",
        "        return a\n",
        "\n",
        "    def backward(self, delta_a):\n",
        "        delta_w = np.zeros_like(self.w, dtype=float)\n",
        "        delta_b = np.sum(delta_a, axis=1)\n",
        "        delta_x = np.zeros_like(self.x, dtype=float)\n",
        "\n",
        "        output_length = delta_a.shape[1]\n",
        "\n",
        "        for o in range(self.output_channels):\n",
        "            for i in range(self.input_channels):\n",
        "                for j in range(output_length):\n",
        "                    delta_w[o, i] += delta_a[o, j] * self.x[i, j:j+self.filter_size]\n",
        "                    delta_x[i, j:j+self.filter_size] += delta_a[o, j] * self.w[o, i]\n",
        "\n",
        "        # Update weights and biases\n",
        "        self.w -= self.lr * delta_w\n",
        "        self.b -= self.lr * delta_b\n",
        "\n",
        "        return delta_x\n"
      ],
      "metadata": {
        "id": "rG7E7OLjzPaM"
      },
      "execution_count": null,
      "outputs": []
    },
    {
      "cell_type": "code",
      "source": [
        "def pad_input(x, pad_width):\n",
        "    # x: (channels, length), pad_width: int\n",
        "    return np.pad(x, ((0,0),(pad_width, pad_width)), mode='constant')\n",
        "\n",
        "x = np.array([[1,2,3,4],[2,3,4,5]], dtype=float)\n",
        "x_padded = pad_input(x, 1)\n",
        "print(x_padded)  # shape (2, 6)\n"
      ],
      "metadata": {
        "colab": {
          "base_uri": "https://localhost:8080/"
        },
        "id": "Jy2Ffv3QzPeZ",
        "outputId": "1e3b3d9e-b0a0-4227-f75f-9dd73ece091c"
      },
      "execution_count": null,
      "outputs": [
        {
          "output_type": "stream",
          "name": "stdout",
          "text": [
            "[[0. 1. 2. 3. 4. 0.]\n",
            " [0. 2. 3. 4. 5. 0.]]\n"
          ]
        }
      ]
    },
    {
      "cell_type": "code",
      "source": [
        "def pad_input(x, pad_width):\n",
        "    # x: (channels, length), pad_width: int\n",
        "    return np.pad(x, ((0,0),(pad_width, pad_width)), mode='constant')\n",
        "\n",
        "x = np.array([[1,2,3,4],[2,3,4,5]], dtype=float)\n",
        "x_padded = pad_input(x, 1)\n",
        "print(x_padded)  # shape (2, 6)\n"
      ],
      "metadata": {
        "colab": {
          "base_uri": "https://localhost:8080/"
        },
        "id": "h64e2mokzPhW",
        "outputId": "3b3671f7-9326-4464-a5ad-775aeb5f0c5c"
      },
      "execution_count": null,
      "outputs": [
        {
          "output_type": "stream",
          "name": "stdout",
          "text": [
            "[[0. 1. 2. 3. 4. 0.]\n",
            " [0. 2. 3. 4. 5. 0.]]\n"
          ]
        }
      ]
    },
    {
      "cell_type": "code",
      "source": [
        "def forward_batch(conv_layer, batch_x):\n",
        "    # batch_x: (batch_size, channels, length)\n",
        "    batch_out = []\n",
        "    for x in batch_x:\n",
        "        batch_out.append(conv_layer.forward(x))\n",
        "    return np.array(batch_out, dtype=float)\n"
      ],
      "metadata": {
        "id": "WEDLUFhFzPkS"
      },
      "execution_count": null,
      "outputs": []
    },
    {
      "cell_type": "code",
      "source": [
        "class Conv1dStride(Conv1d):\n",
        "    def forward(self, x, stride=1):\n",
        "        self.x = x.astype(float)\n",
        "        output_length = (x.shape[1] - self.filter_size)//stride + 1\n",
        "        a = np.zeros((self.output_channels, output_length), dtype=float)\n",
        "\n",
        "        for o in range(self.output_channels):\n",
        "            for i in range(self.input_channels):\n",
        "                for j in range(output_length):\n",
        "                    start = j*stride\n",
        "                    a[o, j] += np.sum(x[i, start:start+self.filter_size] * self.w[o, i])\n",
        "            a[o] += self.b[o]\n",
        "\n",
        "        self.a = a\n",
        "        return a\n"
      ],
      "metadata": {
        "id": "smehchaRzPnU"
      },
      "execution_count": null,
      "outputs": []
    },
    {
      "cell_type": "code",
      "source": [
        "class Scratch1dCNNClassifier:\n",
        "    def __init__(self):\n",
        "        # 1 Conv1d layer + 1 fully connected layer\n",
        "        self.conv = Conv1d(input_channels=1, output_channels=2, filter_size=3)\n",
        "        self.fc_w = np.random.randn(2*26, 10).astype(float) * np.sqrt(1.0/26)\n",
        "        self.fc_b = np.zeros(10, dtype=float)\n",
        "        self.lr = 0.01\n",
        "\n",
        "    def forward(self, x):\n",
        "        a_conv = self.conv.forward(x)\n",
        "        self.flatten = a_conv.flatten()\n",
        "        a_fc = np.dot(self.flatten, self.fc_w) + self.fc_b\n",
        "        return a_fc\n",
        "\n",
        "    def backward(self, delta_fc):\n",
        "        delta_flat = np.dot(delta_fc, self.fc_w.T).reshape(self.conv.a.shape)\n",
        "        delta_x = self.conv.backward(delta_flat)\n",
        "\n",
        "        self.fc_w -= self.lr * np.outer(self.flatten, delta_fc)\n",
        "        self.fc_b -= self.lr * delta_fc\n",
        "        return delta_x\n"
      ],
      "metadata": {
        "id": "ymwETMbezPqU"
      },
      "execution_count": null,
      "outputs": []
    },
    {
      "cell_type": "code",
      "source": [
        "x = np.random.rand(1,28).astype(float)\n",
        "y_true = np.zeros(10, dtype=float)\n",
        "y_true[3] = 1.0\n",
        "\n",
        "cnn = Scratch1dCNNClassifier()\n",
        "out = cnn.forward(x)\n",
        "loss = np.sum((out - y_true)**2)\n",
        "delta_fc = 2*(out - y_true)\n",
        "cnn.backward(delta_fc)\n",
        "\n",
        "print(\"Output:\", out)\n",
        "print(\"Loss:\", loss)\n"
      ],
      "metadata": {
        "colab": {
          "base_uri": "https://localhost:8080/"
        },
        "id": "Feucxz1gzPsk",
        "outputId": "5a792cbe-b8c3-48dd-968f-eaab864b26de"
      },
      "execution_count": null,
      "outputs": [
        {
          "output_type": "stream",
          "name": "stdout",
          "text": [
            "Output: [-0.02813447 -0.00297937 -0.10109935 -0.11108691  0.06318653 -0.18608155\n",
            "  0.09250745  0.09429938 -0.1467204  -0.04884528]\n",
            "Loss: 1.3255172415579082\n"
          ]
        }
      ]
    },
    {
      "cell_type": "code",
      "source": [
        "import numpy as np\n",
        "\n",
        "\n",
        "class SimpleConv1d:\n",
        "    def __init__(self, filter_size, learning_rate=0.01):\n",
        "        self.filter_size = filter_size\n",
        "        self.learning_rate = learning_rate\n",
        "        self.w = np.random.randn(filter_size).astype(float) * np.sqrt(1.0 / filter_size)\n",
        "        self.b = 0.0\n",
        "\n",
        "    def forward(self, x):\n",
        "        self.x = x.astype(float)\n",
        "        output_length = len(self.x) - self.filter_size + 1\n",
        "        self.a = np.empty(output_length, dtype=float)\n",
        "        for i in range(output_length):\n",
        "            self.a[i] = np.sum(self.x[i:i+self.filter_size] * self.w) + self.b\n",
        "        return self.a\n",
        "\n",
        "    def backward(self, delta_a):\n",
        "        delta_w = np.zeros_like(self.w, dtype=float)\n",
        "        delta_b = np.sum(delta_a)\n",
        "        delta_x = np.zeros_like(self.x, dtype=float)\n",
        "\n",
        "        for i in range(len(delta_a)):\n",
        "            delta_w += delta_a[i] * self.x[i:i+self.filter_size]\n",
        "            delta_x[i:i+self.filter_size] += delta_a[i] * self.w\n",
        "\n",
        "        self.w -= self.learning_rate * delta_w\n",
        "        self.b -= self.learning_rate * delta_b\n",
        "\n",
        "        return delta_x\n",
        "\n",
        "\n",
        "def conv1d_output_size(input_size, filter_size, padding=0, stride=1):\n",
        "    return (input_size + 2*padding - filter_size)//stride + 1\n",
        "\n",
        "\n",
        "class Conv1d:\n",
        "    def __init__(self, input_channels, output_channels, filter_size, learning_rate=0.01):\n",
        "        self.input_channels = input_channels\n",
        "        self.output_channels = output_channels\n",
        "        self.filter_size = filter_size\n",
        "        self.lr = learning_rate\n",
        "\n",
        "        self.w = np.random.randn(output_channels, input_channels, filter_size).astype(float) * np.sqrt(1.0/filter_size)\n",
        "        self.b = np.zeros(output_channels, dtype=float)\n",
        "\n",
        "    def forward(self, x):\n",
        "        self.x = x.astype(float)\n",
        "        output_length = x.shape[1] - self.filter_size + 1\n",
        "        a = np.zeros((self.output_channels, output_length), dtype=float)\n",
        "\n",
        "        for o in range(self.output_channels):\n",
        "            for i in range(self.input_channels):\n",
        "                for j in range(output_length):\n",
        "                    a[o, j] += np.sum(self.x[i, j:j+self.filter_size] * self.w[o, i])\n",
        "            a[o] += self.b[o]\n",
        "\n",
        "        self.a = a\n",
        "        return a\n",
        "\n",
        "    def backward(self, delta_a):\n",
        "        delta_w = np.zeros_like(self.w, dtype=float)\n",
        "        delta_b = np.sum(delta_a, axis=1)\n",
        "        delta_x = np.zeros_like(self.x, dtype=float)\n",
        "\n",
        "        output_length = delta_a.shape[1]\n",
        "\n",
        "        for o in range(self.output_channels):\n",
        "            for i in range(self.input_channels):\n",
        "                for j in range(output_length):\n",
        "                    delta_w[o, i] += delta_a[o, j] * self.x[i, j:j+self.filter_size]\n",
        "                    delta_x[i, j:j+self.filter_size] += delta_a[o, j] * self.w[o, i]\n",
        "\n",
        "        self.w -= self.lr * delta_w\n",
        "        self.b -= self.lr * delta_b\n",
        "\n",
        "        return delta_x\n",
        "\n",
        "\n",
        "def pad_input(x, pad_width):\n",
        "    return np.pad(x, ((0,0),(pad_width, pad_width)), mode='constant')\n",
        "\n",
        "\n",
        "def forward_batch(conv_layer, batch_x):\n",
        "    batch_out = []\n",
        "    for x in batch_x:\n",
        "        batch_out.append(conv_layer.forward(x))\n",
        "    return np.array(batch_out, dtype=float)\n",
        "\n",
        "\n",
        "class Conv1dStride(Conv1d):\n",
        "    def forward(self, x, stride=1):\n",
        "        self.x = x.astype(float)\n",
        "        output_length = (x.shape[1] - self.filter_size)//stride + 1\n",
        "        a = np.zeros((self.output_channels, output_length), dtype=float)\n",
        "\n",
        "        for o in range(self.output_channels):\n",
        "            for i in range(self.input_channels):\n",
        "                for j in range(output_length):\n",
        "                    start = j*stride\n",
        "                    a[o, j] += np.sum(x[i, start:start+self.filter_size] * self.w[o, i])\n",
        "            a[o] += self.b[o]\n",
        "\n",
        "        self.a = a\n",
        "        return a\n",
        "\n",
        "\n",
        "class Scratch1dCNNClassifier:\n",
        "    def __init__(self):\n",
        "        self.conv = Conv1d(input_channels=1, output_channels=2, filter_size=3)\n",
        "        self.fc_w = np.random.randn(2*26, 10).astype(float) * np.sqrt(1.0/26)\n",
        "        self.fc_b = np.zeros(10, dtype=float)\n",
        "        self.lr = 0.01\n",
        "\n",
        "    def forward(self, x):\n",
        "        a_conv = self.conv.forward(x)\n",
        "        self.flatten = a_conv.flatten()\n",
        "        a_fc = np.dot(self.flatten, self.fc_w) + self.fc_b\n",
        "        return a_fc\n",
        "\n",
        "    def backward(self, delta_fc):\n",
        "        delta_flat = np.dot(delta_fc, self.fc_w.T).reshape(self.conv.a.shape)\n",
        "        delta_x = self.conv.backward(delta_flat)\n",
        "\n",
        "        self.fc_w -= self.lr * np.outer(self.flatten, delta_fc)\n",
        "        self.fc_b -= self.lr * delta_fc\n",
        "        return delta_x\n",
        "\n",
        "\n",
        "x = np.random.rand(1,28).astype(float)\n",
        "y_true = np.zeros(10, dtype=float)\n",
        "y_true[3] = 1.0\n",
        "\n",
        "cnn = Scratch1dCNNClassifier()\n",
        "out = cnn.forward(x)\n",
        "loss = np.sum((out - y_true)**2)\n",
        "delta_fc = 2*(out - y_true)\n",
        "cnn.backward(delta_fc)\n",
        "\n",
        "print(\"Output:\", out)\n",
        "print(\"Loss:\", loss)\n"
      ],
      "metadata": {
        "colab": {
          "base_uri": "https://localhost:8080/"
        },
        "id": "I38i8yS-zPvz",
        "outputId": "90ef2eeb-a62b-4aeb-989f-17468f817d2a"
      },
      "execution_count": null,
      "outputs": [
        {
          "output_type": "stream",
          "name": "stdout",
          "text": [
            "Output: [ 0.11822238  0.40852609  0.49911199  0.53564349 -0.10747713  0.46795381\n",
            " -0.22201673 -0.59320436  0.69274832  0.20155459]\n",
            "Loss: 1.797849276071204\n"
          ]
        }
      ]
    },
    {
      "cell_type": "code",
      "source": [
        "import numpy as np\n",
        "import matplotlib.pyplot as plt\n",
        "from tensorflow.keras.datasets import mnist\n",
        "from sklearn.model_selection import train_test_split\n",
        "\n",
        "# Fully Connected Layer\n",
        "\n",
        "class FC:\n",
        "    def __init__(self, n_in, n_out, initializer, optimizer):\n",
        "        self.optimizer = optimizer\n",
        "        self.W = initializer.W(n_in, n_out)\n",
        "        self.B = initializer.B(n_out)\n",
        "\n",
        "    def forward(self, X):\n",
        "        self.X = X\n",
        "        return np.dot(X, self.W) + self.B\n",
        "\n",
        "    def backward(self, dA):\n",
        "        dW = np.dot(self.X.T, dA)\n",
        "        dB = np.sum(dA, axis=0)\n",
        "        dZ = np.dot(dA, self.W.T)\n",
        "        self.W, self.B = self.optimizer.update(self.W, self.B, dW, dB)\n",
        "        return dZ\n",
        "\n",
        "\n",
        "# Initializers\n",
        "\n",
        "class SimpleInitializer:\n",
        "    def __init__(self, sigma=0.1):\n",
        "        self.sigma = sigma\n",
        "    def W(self, n_in, n_out):\n",
        "        return np.random.randn(n_in, n_out) * self.sigma\n",
        "    def B(self, n_out):\n",
        "        return np.zeros(n_out)\n",
        "\n",
        "class XavierInitializer:\n",
        "    def W(self, n_in, n_out):\n",
        "        sigma = 1 / np.sqrt(n_in)\n",
        "        return np.random.randn(n_in, n_out) * sigma\n",
        "    def B(self, n_out):\n",
        "        return np.zeros(n_out)\n",
        "\n",
        "class HeInitializer:\n",
        "    def W(self, n_in, n_out):\n",
        "        sigma = np.sqrt(2 / n_in)\n",
        "        return np.random.randn(n_in, n_out) * sigma\n",
        "    def B(self, n_out):\n",
        "        return np.zeros(n_out)\n",
        "\n",
        "\n",
        "# Optimizers\n",
        "\n",
        "class SGD:\n",
        "    def __init__(self, lr):\n",
        "        self.lr = lr\n",
        "    def update(self, W, B, dW, dB):\n",
        "        return W - self.lr * dW, B - self.lr * dB\n",
        "\n",
        "\n",
        "# Activation Functions\n",
        "\n",
        "class ReLU:\n",
        "    def forward(self, X):\n",
        "        self.X = X\n",
        "        return np.maximum(0, X)\n",
        "    def backward(self, dA):\n",
        "        dZ = dA.copy()\n",
        "        dZ[self.X <= 0] = 0\n",
        "        return dZ\n",
        "\n",
        "class Tanh:\n",
        "    def forward(self, X):\n",
        "        self.Z = np.tanh(X)\n",
        "        return self.Z\n",
        "    def backward(self, dA):\n",
        "        return dA * (1 - self.Z**2)\n",
        "\n",
        "class Softmax:\n",
        "    def forward(self, X):\n",
        "        exps = np.exp(X - np.max(X, axis=1, keepdims=True))\n",
        "        self.Z = exps / np.sum(exps, axis=1, keepdims=True)\n",
        "        return self.Z\n",
        "    def backward(self, Y):\n",
        "        return (self.Z - Y) / Y.shape[0]\n",
        "\n",
        "\n",
        "# Deep Neural Network\n",
        "\n",
        "class ScratchDeepNeuralNetworkClassifier:\n",
        "    def __init__(self, layers):\n",
        "        self.layers = layers\n",
        "\n",
        "    def forward(self, X):\n",
        "        for fc, act in self.layers:\n",
        "            X = fc.forward(X)\n",
        "            X = act.forward(X)\n",
        "        return X\n",
        "\n",
        "    def backward(self, Y):\n",
        "        dA = None\n",
        "        for fc, act in reversed(self.layers):\n",
        "            if isinstance(act, Softmax):\n",
        "                dA = act.backward(Y)\n",
        "            else:\n",
        "                dA = act.backward(dA)\n",
        "            dA = fc.backward(dA)\n",
        "\n",
        "    def compute_loss(self, Y_pred, Y_true):\n",
        "        return -np.sum(Y_true * np.log(Y_pred + 1e-7)) / Y_true.shape[0]\n",
        "\n",
        "    def fit(self, X_train, Y_train, X_val, Y_val, epochs=10, batch_size=100):\n",
        "        train_losses, val_losses = [], []\n",
        "        n_samples = X_train.shape[0]\n",
        "\n",
        "        for epoch in range(epochs):\n",
        "            # Shuffle training data\n",
        "            idx = np.random.permutation(n_samples)\n",
        "            X_train, Y_train = X_train[idx], Y_train[idx]\n",
        "\n",
        "            # Mini-batch training\n",
        "            for i in range(0, n_samples, batch_size):\n",
        "                X_batch = X_train[i:i+batch_size]\n",
        "                Y_batch = Y_train[i:i+batch_size]\n",
        "                Y_pred = self.forward(X_batch)\n",
        "                self.backward(Y_batch)\n",
        "\n",
        "            # Compute losses for learning curve\n",
        "            Y_pred_train = self.forward(X_train)\n",
        "            Y_pred_val = self.forward(X_val)\n",
        "            train_loss = self.compute_loss(Y_pred_train, Y_train)\n",
        "            val_loss = self.compute_loss(Y_pred_val, Y_val)\n",
        "            train_losses.append(train_loss)\n",
        "            val_losses.append(val_loss)\n",
        "\n",
        "            print(f\"Epoch {epoch+1}/{epochs} | Train Loss: {train_loss:.4f} | Val Loss: {val_loss:.4f}\")\n",
        "\n",
        "        # Plot learning curve\n",
        "        plt.plot(train_losses, label=\"Train Loss\")\n",
        "        plt.plot(val_losses, label=\"Val Loss\")\n",
        "        plt.xlabel(\"Epochs\")\n",
        "        plt.ylabel(\"Loss\")\n",
        "        plt.title(\"Learning Curve\")\n",
        "        plt.legend()\n",
        "        plt.show()\n",
        "\n",
        "    def predict(self, X):\n",
        "        output = self.forward(X)\n",
        "        return np.argmax(output, axis=1)\n",
        "\n",
        "\n",
        "# Data Loading: MNIST\n",
        "\n",
        "(x_train, y_train), (x_test, y_test) = mnist.load_data()\n",
        "x_train = x_train.reshape(-1, 784) / 255.0\n",
        "x_test = x_test.reshape(-1, 784) / 255.0\n",
        "\n",
        "# One-hot encoding\n",
        "Y_train = np.zeros((y_train.size, 10))\n",
        "Y_train[np.arange(y_train.size), y_train] = 1\n",
        "Y_test = np.zeros((y_test.size, 10))\n",
        "Y_test[np.arange(y_test.size), y_test] = 1\n",
        "\n",
        "# Train/validation split\n",
        "X_train, X_val, Y_train, Y_val = train_test_split(x_train[:5000], Y_train[:5000], test_size=0.2, random_state=42)\n",
        "\n",
        "# sample MNIST image\n",
        "plt.imshow(x_train[0].reshape(28,28), cmap=\"gray\")\n",
        "plt.title(f\"Example MNIST Image (Label: {y_train[0]})\")\n",
        "plt.show()\n",
        "\n",
        "\n",
        "# Model Setup and Training\n",
        "\n",
        "optimizer = SGD(lr=0.01)\n",
        "initializer = XavierInitializer()\n",
        "\n",
        "layers = [\n",
        "    (FC(784, 128, initializer, optimizer), ReLU()),\n",
        "    (FC(128, 64, initializer, optimizer), Tanh()),\n",
        "    (FC(64, 10, initializer, optimizer), Softmax())\n",
        "]\n",
        "\n",
        "model = ScratchDeepNeuralNetworkClassifier(layers)\n",
        "model.fit(X_train, Y_train, X_val, Y_val, epochs=10, batch_size=100)\n",
        "\n",
        "# Evaluation\n",
        "\n",
        "preds = model.predict(x_test[:1000])\n",
        "accuracy = np.mean(preds == y_test[:1000])\n",
        "print(\"Final Test Accuracy:\", accuracy)\n"
      ],
      "metadata": {
        "colab": {
          "base_uri": "https://localhost:8080/",
          "height": 1000
        },
        "id": "-Avcb2kvNeLF",
        "outputId": "95c25517-e7b8-41c4-994c-82f288a53a5d"
      },
      "execution_count": 6,
      "outputs": [
        {
          "output_type": "display_data",
          "data": {
            "text/plain": [
              "<Figure size 640x480 with 1 Axes>"
            ],
            "image/png": "[encoded data removed]"
          },
          "metadata": {}
        },
        {
          "output_type": "stream",
          "name": "stdout",
          "text": [
            "Epoch 1/10 | Train Loss: 2.1380 | Val Loss: 2.1276\n",
            "Epoch 2/10 | Train Loss: 1.9585 | Val Loss: 1.9470\n",
            "Epoch 3/10 | Train Loss: 1.7720 | Val Loss: 1.7588\n",
            "Epoch 4/10 | Train Loss: 1.5870 | Val Loss: 1.5713\n",
            "Epoch 5/10 | Train Loss: 1.4160 | Val Loss: 1.3998\n",
            "Epoch 6/10 | Train Loss: 1.2670 | Val Loss: 1.2507\n",
            "Epoch 7/10 | Train Loss: 1.1409 | Val Loss: 1.1264\n",
            "Epoch 8/10 | Train Loss: 1.0353 | Val Loss: 1.0224\n",
            "Epoch 9/10 | Train Loss: 0.9472 | Val Loss: 0.9371\n",
            "Epoch 10/10 | Train Loss: 0.8732 | Val Loss: 0.8667\n"
          ]
        },
        {
          "output_type": "display_data",
          "data": {
            "text/plain": [
              "<Figure size 640x480 with 1 Axes>"
            ],
            "image/png": "[encoded data removed]"
          },
          "metadata": {}
        },
        {
          "output_type": "stream",
          "name": "stdout",
          "text": [
            "Final Test Accuracy: 0.779\n"
          ]
        }
      ]
    },
    {
      "cell_type": "code",
      "source": [],
      "metadata": {
        "id": "ZpuBoSzrNe8d"
      },
      "execution_count": null,
      "outputs": []
    }
  ]
}