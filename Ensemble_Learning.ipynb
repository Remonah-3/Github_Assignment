{
  "nbformat": 4,
  "nbformat_minor": 0,
  "metadata": {
    "colab": {
      "provenance": [],
      "authorship_tag": "ABX9TyNY16Xjk7qz0HD5oA9iTrTE",
      "include_colab_link": true
    },
    "kernelspec": {
      "name": "python3",
      "display_name": "Python 3"
    },
    "language_info": {
      "name": "python"
    }
  },
  "cells": [
    {
      "cell_type": "markdown",
      "metadata": {
        "id": "view-in-github",
        "colab_type": "text"
      },
      "source": [
        "<a href=\"https://colab.research.google.com/github/Remonah-3/Github_Assignment/blob/master/Ensemble_Learning.ipynb\" target=\"_parent\"><img src=\"https://colab.research.google.com/assets/colab-badge.svg\" alt=\"Open In Colab\"/></a>"
      ]
    },
    {
      "cell_type": "code",
      "execution_count": 2,
      "metadata": {
        "colab": {
          "base_uri": "https://localhost:8080/"
        },
        "id": "aX3famlQMH-M",
        "outputId": "791bb990-e9c8-41bc-ed0d-bae6823b438f"
      },
      "outputs": [
        {
          "output_type": "stream",
          "name": "stdout",
          "text": [
            "=== Single Model Performance ===\n",
            "Linear Regression MSE: 2495554898.6683207\n",
            "SVM MSE: 6418570975.686604\n",
            "Decision Tree MSE: 1844304720.6577315\n",
            "\n",
            "=== Blending ===\n",
            "Blended Model MSE: 2597232396.43489\n",
            "\n",
            "=== Bagging ===\n",
            "Bagged Model (Linear Regression) MSE: 2448340185.536358\n",
            "\n",
            "=== Stacking ===\n",
            "Stacked Model MSE: 1968679182.1550841\n",
            "\n",
            "=== Summary ===\n",
            "Linear Regression MSE: 2495554898.67\n",
            "SVM MSE: 6418570975.69\n",
            "Decision Tree MSE: 1844304720.66\n",
            "Blending MSE: 2597232396.43\n",
            "Bagging MSE: 2448340185.54\n",
            "Stacking MSE: 1968679182.16\n"
          ]
        }
      ],
      "source": [
        "import pandas as pd\n",
        "import numpy as np\n",
        "from sklearn.model_selection import train_test_split\n",
        "from sklearn.preprocessing import StandardScaler\n",
        "from sklearn.linear_model import LinearRegression\n",
        "from sklearn.svm import SVR\n",
        "from sklearn.tree import DecisionTreeRegressor\n",
        "from sklearn.metrics import mean_squared_error\n",
        "from sklearn.utils import resample\n",
        "from sklearn.ensemble import StackingRegressor\n",
        "\n",
        "df = pd.read_csv('train.csv')\n",
        "\n",
        "# Target variable: SalePrice\n",
        "# Features: GrLivArea, YearBuilt\n",
        "data = df[['GrLivArea', 'YearBuilt', 'SalePrice']].dropna()\n",
        "\n",
        "X = data[['GrLivArea', 'YearBuilt']]\n",
        "y = data['SalePrice']\n",
        "\n",
        "# Split data (80% training, 20% validation)\n",
        "X_train, X_val, y_train, y_val = train_test_split(X, y, test_size=0.2, random_state=42)\n",
        "\n",
        "# Scale features\n",
        "scaler = StandardScaler()\n",
        "X_train_scaled = scaler.fit_transform(X_train)\n",
        "X_val_scaled = scaler.transform(X_val)\n",
        "\n",
        "# Single Models for Comparison\n",
        "lr = LinearRegression()\n",
        "svm = SVR(kernel='rbf', C=100)\n",
        "dt = DecisionTreeRegressor(max_depth=5, random_state=42)\n",
        "\n",
        "# Train models\n",
        "lr.fit(X_train_scaled, y_train)\n",
        "svm.fit(X_train_scaled, y_train)\n",
        "dt.fit(X_train_scaled, y_train)\n",
        "\n",
        "# Predict\n",
        "lr_pred = lr.predict(X_val_scaled)\n",
        "svm_pred = svm.predict(X_val_scaled)\n",
        "dt_pred = dt.predict(X_val_scaled)\n",
        "\n",
        "# Evaluate single model performance\n",
        "print(\"=== Single Model Performance ===\")\n",
        "print(\"Linear Regression MSE:\", mean_squared_error(y_val, lr_pred))\n",
        "print(\"SVM MSE:\", mean_squared_error(y_val, svm_pred))\n",
        "print(\"Decision Tree MSE:\", mean_squared_error(y_val, dt_pred))\n",
        "\n",
        "# 3. Blending\n",
        "blend_pred = (0.4 * lr_pred) + (0.3 * svm_pred) + (0.3 * dt_pred)\n",
        "\n",
        "blend_mse = mean_squared_error(y_val, blend_pred)\n",
        "print(\"\\n=== Blending ===\")\n",
        "print(\"Blended Model MSE:\", blend_mse)\n",
        "\n",
        "# Bagging\n",
        "n_estimators = 5\n",
        "bagged_preds = np.zeros_like(y_val, dtype=float)\n",
        "\n",
        "for i in range(n_estimators):\n",
        "    # Bootstrap sample\n",
        "    X_resampled, y_resampled = resample(X_train_scaled, y_train, random_state=42 + i)\n",
        "    model = LinearRegression()\n",
        "    model.fit(X_resampled, y_resampled)\n",
        "    preds = model.predict(X_val_scaled)\n",
        "    bagged_preds += preds\n",
        "\n",
        "# Average predictions\n",
        "bagged_preds /= n_estimators\n",
        "\n",
        "bagging_mse = mean_squared_error(y_val, bagged_preds)\n",
        "print(\"\\n=== Bagging ===\")\n",
        "print(\"Bagged Model (Linear Regression) MSE:\", bagging_mse)\n",
        "\n",
        "# Stacking\n",
        "estimators = [\n",
        "    ('lr', LinearRegression()),\n",
        "    ('svm', SVR(kernel='rbf', C=100)),\n",
        "    ('dt', DecisionTreeRegressor(max_depth=5, random_state=42))\n",
        "]\n",
        "\n",
        "stack_model = StackingRegressor(\n",
        "    estimators=estimators,\n",
        "    final_estimator=LinearRegression()\n",
        ")\n",
        "\n",
        "stack_model.fit(X_train_scaled, y_train)\n",
        "stack_pred = stack_model.predict(X_val_scaled)\n",
        "stacking_mse = mean_squared_error(y_val, stack_pred)\n",
        "\n",
        "print(\"\\n=== Stacking ===\")\n",
        "print(\"Stacked Model MSE:\", stacking_mse)\n",
        "\n",
        "# Summary of All Methods\n",
        "\n",
        "\n",
        "print(\"\\n=== Summary ===\")\n",
        "print(f\"Linear Regression MSE: {mean_squared_error(y_val, lr_pred):.2f}\")\n",
        "print(f\"SVM MSE: {mean_squared_error(y_val, svm_pred):.2f}\")\n",
        "print(f\"Decision Tree MSE: {mean_squared_error(y_val, dt_pred):.2f}\")\n",
        "print(f\"Blending MSE: {blend_mse:.2f}\")\n",
        "print(f\"Bagging MSE: {bagging_mse:.2f}\")\n",
        "print(f\"Stacking MSE: {stacking_mse:.2f}\")\n"
      ]
    },
    {
      "cell_type": "markdown",
      "source": [
        "We explored ensemble learning methods to improve regression model accuracy using the House Prices dataset.\n",
        "We trained Linear Regression, Support Vector Regression, and Decision Tree Regressor, and combined them using blending, bagging, and stacking.\n",
        "\n",
        "Among these, stacking achieved the lowest Mean Squared Error, showing that combining models in multiple layers can capture different aspects of the data and produce more accurate predictions.\n",
        "\n",
        "This demonstrates that ensemble learning provides higher predictive power and generalization ability compared to individual models alone."
      ],
      "metadata": {
        "id": "UY7rzNalPaX1"
      }
    }
  ]
}