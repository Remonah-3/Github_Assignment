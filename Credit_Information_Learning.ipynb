{
  "nbformat": 4,
  "nbformat_minor": 0,
  "metadata": {
    "colab": {
      "provenance": [],
      "authorship_tag": "ABX9TyMaFQqj5gFWU7E/WcjpGPew",
      "include_colab_link": true
    },
    "kernelspec": {
      "name": "python3",
      "display_name": "Python 3"
    },
    "language_info": {
      "name": "python"
    }
  },
  "cells": [
    {
      "cell_type": "markdown",
      "metadata": {
        "id": "view-in-github",
        "colab_type": "text"
      },
      "source": [
        "<a href=\"https://colab.research.google.com/github/Remonah-3/Github_Assignment/blob/master/Credit_Information_Learning.ipynb\" target=\"_parent\"><img src=\"https://colab.research.google.com/assets/colab-badge.svg\" alt=\"Open In Colab\"/></a>"
      ]
    },
    {
      "cell_type": "code",
      "execution_count": 1,
      "metadata": {
        "colab": {
          "base_uri": "https://localhost:8080/"
        },
        "id": "5sriQ7Gaav6j",
        "outputId": "6b74353d-526c-4d4e-f887-5a33ae30574a"
      },
      "outputs": [
        {
          "output_type": "stream",
          "name": "stdout",
          "text": [
            "Baseline ROC AUC (validation): 0.6274084032846746\n"
          ]
        },
        {
          "output_type": "stream",
          "name": "stderr",
          "text": [
            "/usr/local/lib/python3.12/dist-packages/sklearn/linear_model/_logistic.py:465: ConvergenceWarning: lbfgs failed to converge (status=1):\n",
            "STOP: TOTAL NO. OF ITERATIONS REACHED LIMIT.\n",
            "\n",
            "Increase the number of iterations (max_iter) or scale the data as shown in:\n",
            "    https://scikit-learn.org/stable/modules/preprocessing.html\n",
            "Please also refer to the documentation for alternative solver options:\n",
            "    https://scikit-learn.org/stable/modules/linear_model.html#logistic-regression\n",
            "  n_iter_i = _check_optimize_result(\n"
          ]
        }
      ],
      "source": [
        "import pandas as pd\n",
        "from sklearn.linear_model import LogisticRegression\n",
        "from sklearn.model_selection import train_test_split\n",
        "from sklearn.metrics import roc_auc_score\n",
        "\n",
        "train = pd.read_csv(\"application_train.csv\")\n",
        "\n",
        "# Map binary categorical features to numeric\n",
        "train['OWN_CAR_NUM'] = train['FLAG_OWN_CAR'].map({'N': 0, 'Y': 1})\n",
        "train['OWN_REALTY_NUM'] = train['FLAG_OWN_REALTY'].map({'N': 0, 'Y': 1})\n",
        "\n",
        "# Select numeric columns only\n",
        "numeric_cols = train.select_dtypes(include='number').columns.tolist()\n",
        "numeric_cols.remove('TARGET')\n",
        "\n",
        "# Fill missing values with 0\n",
        "train[numeric_cols] = train[numeric_cols].fillna(0)\n",
        "\n",
        "# Train-validation split\n",
        "X = train[numeric_cols]\n",
        "y = train['TARGET']\n",
        "X_train, X_val, y_train, y_val = train_test_split(X, y, test_size=0.2, random_state=42)\n",
        "\n",
        "# Train baseline Logistic Regression model\n",
        "model = LogisticRegression(max_iter=5000)\n",
        "model.fit(X_train, y_train)\n",
        "\n",
        "# Evaluate on validation set using ROC AUC\n",
        "val_probs = model.predict_proba(X_val)[:, 1]\n",
        "roc_auc = roc_auc_score(y_val, val_probs)\n",
        "print(\"Baseline ROC AUC (validation):\", roc_auc)\n"
      ]
    },
    {
      "cell_type": "code",
      "source": [
        "import pandas as pd\n",
        "from sklearn.linear_model import LogisticRegression\n",
        "from sklearn.model_selection import train_test_split\n",
        "from sklearn.metrics import roc_auc_score\n",
        "\n",
        "train = pd.read_csv(\"application_train.csv\")\n",
        "test = pd.read_csv(\"application_test.csv\")  # test set for submission\n",
        "\n",
        "# Map binary categorical features to numeric\n",
        "train['OWN_CAR_NUM'] = train['FLAG_OWN_CAR'].map({'N': 0, 'Y': 1})\n",
        "train['OWN_REALTY_NUM'] = train['FLAG_OWN_REALTY'].map({'N': 0, 'Y': 1})\n",
        "test['OWN_CAR_NUM'] = test['FLAG_OWN_CAR'].map({'N': 0, 'Y': 1})\n",
        "test['OWN_REALTY_NUM'] = test['FLAG_OWN_REALTY'].map({'N': 0, 'Y': 1})\n",
        "\n",
        "numeric_cols = train.select_dtypes(include='number').columns.tolist()\n",
        "numeric_cols.remove('TARGET')\n",
        "\n",
        "# Fill missing values with 0\n",
        "train[numeric_cols] = train[numeric_cols].fillna(0)\n",
        "test[numeric_cols] = test[numeric_cols].fillna(0)\n",
        "\n",
        "# Train-validation split\n",
        "X = train[numeric_cols]\n",
        "y = train['TARGET']\n",
        "X_train, X_val, y_train, y_val = train_test_split(X, y, test_size=0.2, random_state=42)\n",
        "\n",
        "# Train baseline Logistic Regression model\n",
        "model = LogisticRegression(max_iter=5000)\n",
        "model.fit(X_train, y_train)\n",
        "\n",
        "# Evaluate on validation set (optional, just for feedback)\n",
        "val_probs = model.predict_proba(X_val)[:, 1]\n",
        "roc_auc = roc_auc_score(y_val, val_probs)\n",
        "print(\"Baseline ROC AUC (validation):\", roc_auc)\n",
        "\n",
        "# Predict probabilities on test set\n",
        "X_test = test[numeric_cols]\n",
        "test_probs = model.predict_proba(X_test)[:, 1]"
      ],
      "metadata": {
        "colab": {
          "base_uri": "https://localhost:8080/"
        },
        "id": "qExKDd6ihnsr",
        "outputId": "a7386fb3-a476-40a5-eee2-aa222b0aa725"
      },
      "execution_count": 2,
      "outputs": [
        {
          "output_type": "stream",
          "name": "stderr",
          "text": [
            "/usr/local/lib/python3.12/dist-packages/sklearn/linear_model/_logistic.py:465: ConvergenceWarning: lbfgs failed to converge (status=1):\n",
            "STOP: TOTAL NO. OF ITERATIONS REACHED LIMIT.\n",
            "\n",
            "Increase the number of iterations (max_iter) or scale the data as shown in:\n",
            "    https://scikit-learn.org/stable/modules/preprocessing.html\n",
            "Please also refer to the documentation for alternative solver options:\n",
            "    https://scikit-learn.org/stable/modules/linear_model.html#logistic-regression\n",
            "  n_iter_i = _check_optimize_result(\n"
          ]
        },
        {
          "output_type": "stream",
          "name": "stdout",
          "text": [
            "Baseline ROC AUC (validation): 0.6274084032846746\n",
            "Submission file created: baseline_submission.csv\n"
          ]
        }
      ]
    },
    {
      "cell_type": "code",
      "source": [
        "import pandas as pd\n",
        "from sklearn.linear_model import LogisticRegression\n",
        "from sklearn.model_selection import train_test_split\n",
        "from sklearn.metrics import roc_auc_score\n",
        "from sklearn.preprocessing import OneHotEncoder\n",
        "\n",
        "train = pd.read_csv(\"application_train.csv\")\n",
        "test = pd.read_csv(\"application_test.csv\")\n",
        "\n",
        "# preprocessing\n",
        "def preprocess(df):\n",
        "    df = df.copy()\n",
        "\n",
        "    df['OWN_CAR_NUM'] = df['FLAG_OWN_CAR'].map({'N': 0, 'Y': 1})\n",
        "    df['OWN_REALTY_NUM'] = df['FLAG_OWN_REALTY'].map({'N': 0, 'Y': 1})\n",
        "\n",
        "    # Fill numeric missing values with 0\n",
        "    numeric_cols = df.select_dtypes(include='number').columns.tolist()\n",
        "    for col in numeric_cols:\n",
        "        df[col] = df[col].fillna(0)\n",
        "    return df\n",
        "\n",
        "train = preprocess(train)\n",
        "test = preprocess(test)\n",
        "\n",
        "# feature engineering patterns\n",
        "patterns = {}\n",
        "\n",
        "# Pattern 1: Baseline numeric features\n",
        "numeric_cols = train.select_dtypes(include='number').columns.tolist()\n",
        "numeric_cols.remove('TARGET')\n",
        "patterns['Pattern 1'] = numeric_cols\n",
        "\n",
        "# Pattern 2: Add debt ratio (AMT_CREDIT / AMT_INCOME_TOTAL)\n",
        "train['DEBT_RATIO'] = train['AMT_CREDIT'] / (train['AMT_INCOME_TOTAL'] + 1)\n",
        "test['DEBT_RATIO'] = test['AMT_CREDIT'] / (test['AMT_INCOME_TOTAL'] + 1)\n",
        "patterns['Pattern 2'] = numeric_cols + ['DEBT_RATIO']\n",
        "\n",
        "# Pattern 3: Add external sources\n",
        "for col in ['EXT_SOURCE_1', 'EXT_SOURCE_2', 'EXT_SOURCE_3']:\n",
        "    train[col] = train[col].fillna(0)\n",
        "    test[col] = test[col].fillna(0)\n",
        "patterns['Pattern 3'] = patterns['Pattern 2'] + ['EXT_SOURCE_1', 'EXT_SOURCE_2', 'EXT_SOURCE_3']\n",
        "\n",
        "# Pattern 4: Add age in years\n",
        "train['AGE_YEARS'] = train['DAYS_BIRTH'] / -365\n",
        "test['AGE_YEARS'] = test['DAYS_BIRTH'] / -365\n",
        "patterns['Pattern 4'] = patterns['Pattern 3'] + ['AGE_YEARS']\n",
        "\n",
        "# Pattern 5: Include one-hot encoding for selected categorical features\n",
        "categorical_features = ['CODE_GENDER', 'NAME_CONTRACT_TYPE']\n",
        "ohe = OneHotEncoder(sparse_output=False, handle_unknown='ignore')\n",
        "train_ohe = pd.DataFrame(ohe.fit_transform(train[categorical_features]), columns=ohe.get_feature_names_out())\n",
        "test_ohe = pd.DataFrame(ohe.transform(test[categorical_features]), columns=ohe.get_feature_names_out())\n",
        "train = pd.concat([train.reset_index(drop=True), train_ohe], axis=1)\n",
        "test = pd.concat([test.reset_index(drop=True), test_ohe], axis=1)\n",
        "patterns['Pattern 5'] = patterns['Pattern 4'] + list(train_ohe.columns)\n",
        "\n",
        "# Train and validate each pattern\n",
        "results = {}\n",
        "for name, features in patterns.items():\n",
        "    X = train[features]\n",
        "    y = train['TARGET']\n",
        "    X_train, X_val, y_train, y_val = train_test_split(X, y, test_size=0.2, random_state=42)\n",
        "\n",
        "    model = LogisticRegression(max_iter=5000)\n",
        "    model.fit(X_train, y_train)\n",
        "\n",
        "    val_probs = model.predict_proba(X_val)[:, 1]\n",
        "    roc_auc = roc_auc_score(y_val, val_probs)\n",
        "    results[name] = roc_auc\n",
        "    print(f\"{name} - Validation ROC AUC: {roc_auc:.4f}\")\n",
        "\n",
        "# Select best pattern\n",
        "best_pattern = max(results, key=results.get)\n",
        "print(f\"\\nBest performing pattern: {best_pattern} with ROC AUC: {results[best_pattern]:.4f}\")\n",
        "best_features = patterns[best_pattern]\n",
        "\n",
        "# Train model on full training set using best pattern\n",
        "final_model = LogisticRegression(max_iter=1000)\n",
        "final_model.fit(train[best_features], train['TARGET'])\n",
        "\n",
        "# Predict on test set\n",
        "test_probs = final_model.predict_proba(test[best_features])[:, 1]"
      ],
      "metadata": {
        "colab": {
          "base_uri": "https://localhost:8080/"
        },
        "id": "rAuJVpq9iT67",
        "outputId": "bf20e70b-30e7-46f8-af98-237c6fb79765"
      },
      "execution_count": 4,
      "outputs": [
        {
          "output_type": "stream",
          "name": "stderr",
          "text": [
            "/tmp/ipython-input-3039235842.py:35: PerformanceWarning: DataFrame is highly fragmented.  This is usually the result of calling `frame.insert` many times, which has poor performance.  Consider joining all columns at once using pd.concat(axis=1) instead. To get a de-fragmented frame, use `newframe = frame.copy()`\n",
            "  train['DEBT_RATIO'] = train['AMT_CREDIT'] / (train['AMT_INCOME_TOTAL'] + 1)\n",
            "/tmp/ipython-input-3039235842.py:36: PerformanceWarning: DataFrame is highly fragmented.  This is usually the result of calling `frame.insert` many times, which has poor performance.  Consider joining all columns at once using pd.concat(axis=1) instead. To get a de-fragmented frame, use `newframe = frame.copy()`\n",
            "  test['DEBT_RATIO'] = test['AMT_CREDIT'] / (test['AMT_INCOME_TOTAL'] + 1)\n",
            "/tmp/ipython-input-3039235842.py:46: PerformanceWarning: DataFrame is highly fragmented.  This is usually the result of calling `frame.insert` many times, which has poor performance.  Consider joining all columns at once using pd.concat(axis=1) instead. To get a de-fragmented frame, use `newframe = frame.copy()`\n",
            "  train['AGE_YEARS'] = train['DAYS_BIRTH'] / -365\n",
            "/tmp/ipython-input-3039235842.py:47: PerformanceWarning: DataFrame is highly fragmented.  This is usually the result of calling `frame.insert` many times, which has poor performance.  Consider joining all columns at once using pd.concat(axis=1) instead. To get a de-fragmented frame, use `newframe = frame.copy()`\n",
            "  test['AGE_YEARS'] = test['DAYS_BIRTH'] / -365\n",
            "/usr/local/lib/python3.12/dist-packages/sklearn/linear_model/_logistic.py:465: ConvergenceWarning: lbfgs failed to converge (status=1):\n",
            "STOP: TOTAL NO. OF ITERATIONS REACHED LIMIT.\n",
            "\n",
            "Increase the number of iterations (max_iter) or scale the data as shown in:\n",
            "    https://scikit-learn.org/stable/modules/preprocessing.html\n",
            "Please also refer to the documentation for alternative solver options:\n",
            "    https://scikit-learn.org/stable/modules/linear_model.html#logistic-regression\n",
            "  n_iter_i = _check_optimize_result(\n"
          ]
        },
        {
          "output_type": "stream",
          "name": "stdout",
          "text": [
            "Pattern 1 - Validation ROC AUC: 0.6274\n"
          ]
        },
        {
          "output_type": "stream",
          "name": "stderr",
          "text": [
            "/usr/local/lib/python3.12/dist-packages/sklearn/linear_model/_logistic.py:465: ConvergenceWarning: lbfgs failed to converge (status=1):\n",
            "STOP: TOTAL NO. OF ITERATIONS REACHED LIMIT.\n",
            "\n",
            "Increase the number of iterations (max_iter) or scale the data as shown in:\n",
            "    https://scikit-learn.org/stable/modules/preprocessing.html\n",
            "Please also refer to the documentation for alternative solver options:\n",
            "    https://scikit-learn.org/stable/modules/linear_model.html#logistic-regression\n",
            "  n_iter_i = _check_optimize_result(\n"
          ]
        },
        {
          "output_type": "stream",
          "name": "stdout",
          "text": [
            "Pattern 2 - Validation ROC AUC: 0.6274\n"
          ]
        },
        {
          "output_type": "stream",
          "name": "stderr",
          "text": [
            "/usr/local/lib/python3.12/dist-packages/sklearn/linear_model/_logistic.py:465: ConvergenceWarning: lbfgs failed to converge (status=1):\n",
            "STOP: TOTAL NO. OF ITERATIONS REACHED LIMIT.\n",
            "\n",
            "Increase the number of iterations (max_iter) or scale the data as shown in:\n",
            "    https://scikit-learn.org/stable/modules/preprocessing.html\n",
            "Please also refer to the documentation for alternative solver options:\n",
            "    https://scikit-learn.org/stable/modules/linear_model.html#logistic-regression\n",
            "  n_iter_i = _check_optimize_result(\n"
          ]
        },
        {
          "output_type": "stream",
          "name": "stdout",
          "text": [
            "Pattern 3 - Validation ROC AUC: 0.6279\n"
          ]
        },
        {
          "output_type": "stream",
          "name": "stderr",
          "text": [
            "/usr/local/lib/python3.12/dist-packages/sklearn/linear_model/_logistic.py:465: ConvergenceWarning: lbfgs failed to converge (status=1):\n",
            "STOP: TOTAL NO. OF ITERATIONS REACHED LIMIT.\n",
            "\n",
            "Increase the number of iterations (max_iter) or scale the data as shown in:\n",
            "    https://scikit-learn.org/stable/modules/preprocessing.html\n",
            "Please also refer to the documentation for alternative solver options:\n",
            "    https://scikit-learn.org/stable/modules/linear_model.html#logistic-regression\n",
            "  n_iter_i = _check_optimize_result(\n"
          ]
        },
        {
          "output_type": "stream",
          "name": "stdout",
          "text": [
            "Pattern 4 - Validation ROC AUC: 0.6280\n"
          ]
        },
        {
          "output_type": "stream",
          "name": "stderr",
          "text": [
            "/usr/local/lib/python3.12/dist-packages/sklearn/linear_model/_logistic.py:465: ConvergenceWarning: lbfgs failed to converge (status=1):\n",
            "STOP: TOTAL NO. OF ITERATIONS REACHED LIMIT.\n",
            "\n",
            "Increase the number of iterations (max_iter) or scale the data as shown in:\n",
            "    https://scikit-learn.org/stable/modules/preprocessing.html\n",
            "Please also refer to the documentation for alternative solver options:\n",
            "    https://scikit-learn.org/stable/modules/linear_model.html#logistic-regression\n",
            "  n_iter_i = _check_optimize_result(\n"
          ]
        },
        {
          "output_type": "stream",
          "name": "stdout",
          "text": [
            "Pattern 5 - Validation ROC AUC: 0.6282\n",
            "\n",
            "Best performing pattern: Pattern 5 with ROC AUC: 0.6282\n"
          ]
        },
        {
          "output_type": "stream",
          "name": "stderr",
          "text": [
            "/usr/local/lib/python3.12/dist-packages/sklearn/linear_model/_logistic.py:465: ConvergenceWarning: lbfgs failed to converge (status=1):\n",
            "STOP: TOTAL NO. OF ITERATIONS REACHED LIMIT.\n",
            "\n",
            "Increase the number of iterations (max_iter) or scale the data as shown in:\n",
            "    https://scikit-learn.org/stable/modules/preprocessing.html\n",
            "Please also refer to the documentation for alternative solver options:\n",
            "    https://scikit-learn.org/stable/modules/linear_model.html#logistic-regression\n",
            "  n_iter_i = _check_optimize_result(\n"
          ]
        },
        {
          "output_type": "stream",
          "name": "stdout",
          "text": [
            "Submission file created: feature_engineered_submission.csv\n"
          ]
        }
      ]
    },
    {
      "cell_type": "code",
      "source": [],
      "metadata": {
        "id": "qmmTr3vXqrzV"
      },
      "execution_count": null,
      "outputs": []
    }
  ]
}