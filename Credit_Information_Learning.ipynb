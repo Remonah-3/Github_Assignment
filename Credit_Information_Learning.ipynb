{
  "nbformat": 4,
  "nbformat_minor": 0,
  "metadata": {
    "colab": {
      "provenance": [],
      "authorship_tag": "ABX9TyNzNNFPiPIgq/mWme3WZTHy",
      "include_colab_link": true
    },
    "kernelspec": {
      "name": "python3",
      "display_name": "Python 3"
    },
    "language_info": {
      "name": "python"
    }
  },
  "cells": [
    {
      "cell_type": "markdown",
      "metadata": {
        "id": "view-in-github",
        "colab_type": "text"
      },
      "source": [
        "<a href=\"https://colab.research.google.com/github/Remonah-3/Github_Assignment/blob/master/Credit_Information_Learning.ipynb\" target=\"_parent\"><img src=\"https://colab.research.google.com/assets/colab-badge.svg\" alt=\"Open In Colab\"/></a>"
      ]
    },
    {
      "cell_type": "code",
      "execution_count": 6,
      "metadata": {
        "colab": {
          "base_uri": "https://localhost:8080/"
        },
        "id": "5sriQ7Gaav6j",
        "outputId": "310f3887-a7b5-46b8-ab21-1aa1fe7cfb29"
      },
      "outputs": [
        {
          "output_type": "stream",
          "name": "stdout",
          "text": [
            "Baseline ROC AUC (validation): 0.722143184812277\n"
          ]
        }
      ],
      "source": [
        "import pandas as pd\n",
        "from sklearn.linear_model import LogisticRegression\n",
        "from sklearn.model_selection import train_test_split\n",
        "from sklearn.preprocessing import StandardScaler\n",
        "from sklearn.metrics import roc_auc_score\n",
        "\n",
        "# Load data\n",
        "train = pd.read_csv(\"application_train.csv\")\n",
        "\n",
        "# Map binary categorical features to numeric\n",
        "train['OWN_CAR_NUM'] = train['FLAG_OWN_CAR'].map({'N': 0, 'Y': 1})\n",
        "train['OWN_REALTY_NUM'] = train['FLAG_OWN_REALTY'].map({'N': 0, 'Y': 1})\n",
        "\n",
        "# Select numeric columns only\n",
        "numeric_cols = train.select_dtypes(include='number').columns.tolist()\n",
        "numeric_cols.remove('TARGET')\n",
        "\n",
        "# Fill missing numeric values with 0\n",
        "train[numeric_cols] = train[numeric_cols].fillna(0)\n",
        "\n",
        "# Train-validation split\n",
        "X = train[numeric_cols]\n",
        "y = train['TARGET']\n",
        "X_train, X_val, y_train, y_val = train_test_split(X, y, test_size=0.2, random_state=42)\n",
        "\n",
        "scaler = StandardScaler()\n",
        "X_train_scaled = scaler.fit_transform(X_train)\n",
        "X_val_scaled = scaler.transform(X_val)\n",
        "\n",
        "# Train baseline Logistic Regression model\n",
        "model = LogisticRegression(solver='lbfgs', max_iter=3000, C=0.3, n_jobs=-1)\n",
        "model.fit(X_train_scaled, y_train)\n",
        "\n",
        "# Evaluate on validation set using ROC AUC\n",
        "val_probs = model.predict_proba(X_val_scaled)[:, 1]\n",
        "roc_auc = roc_auc_score(y_val, val_probs)\n",
        "print(\"Baseline ROC AUC (validation):\", roc_auc)\n"
      ]
    },
    {
      "cell_type": "code",
      "source": [
        "import pandas as pd\n",
        "from sklearn.linear_model import LogisticRegression\n",
        "from sklearn.model_selection import train_test_split\n",
        "from sklearn.preprocessing import StandardScaler\n",
        "from sklearn.metrics import roc_auc_score\n",
        "\n",
        "# Load data\n",
        "train = pd.read_csv(\"application_train.csv\")\n",
        "test = pd.read_csv(\"application_test.csv\")\n",
        "\n",
        "# Map binary categorical features to numeric\n",
        "for df in [train, test]:\n",
        "    df['OWN_CAR_NUM'] = df['FLAG_OWN_CAR'].map({'N': 0, 'Y': 1})\n",
        "    df['OWN_REALTY_NUM'] = df['FLAG_OWN_REALTY'].map({'N': 0, 'Y': 1})\n",
        "\n",
        "# Select numeric columns only\n",
        "numeric_cols = train.select_dtypes(include='number').columns.tolist()\n",
        "numeric_cols.remove('TARGET')\n",
        "\n",
        "# Fill missing numeric values with 0\n",
        "train[numeric_cols] = train[numeric_cols].fillna(0)\n",
        "test[numeric_cols] = test[numeric_cols].fillna(0)\n",
        "\n",
        "# Train-validation split\n",
        "X = train[numeric_cols]\n",
        "y = train['TARGET']\n",
        "X_train, X_val, y_train, y_val = train_test_split(X, y, test_size=0.2, random_state=42)\n",
        "\n",
        "# Optional subsample for faster runtime in Colab\n",
        "X_train, y_train = X_train[:20000], y_train[:20000]\n",
        "X_val, y_val = X_val[:5000], y_val[:5000]\n",
        "\n",
        "# Scale numeric features\n",
        "scaler = StandardScaler()\n",
        "X_train_scaled = scaler.fit_transform(X_train)\n",
        "X_val_scaled = scaler.transform(X_val)\n",
        "X_test_scaled = scaler.transform(test[numeric_cols])\n",
        "\n",
        "# Train Logistic Regression\n",
        "model = LogisticRegression(solver='lbfgs', max_iter=3000, C=0.3, n_jobs=-1)\n",
        "model.fit(X_train_scaled, y_train)\n",
        "\n",
        "# Evaluate on validation set\n",
        "val_probs = model.predict_proba(X_val_scaled)[:, 1]\n",
        "roc_auc = roc_auc_score(y_val, val_probs)\n",
        "print(f\"Baseline ROC AUC (validation): {roc_auc:.4f}\")\n",
        "\n",
        "# Predict on test set\n",
        "test_probs = model.predict_proba(X_test_scaled)[:, 1]\n",
        "\n",
        "# Create submission CSV\n",
        "submission = pd.DataFrame({'SK_ID_CURR': test['SK_ID_CURR'], 'TARGET': test_probs})\n",
        "submission.to_csv(\"submission_baseline.csv\", index=False)\n",
        "print(\"submission_baseline.csv created.\")\n"
      ],
      "metadata": {
        "colab": {
          "base_uri": "https://localhost:8080/"
        },
        "id": "qExKDd6ihnsr",
        "outputId": "384a82d3-9c35-4d51-d665-3d854da042df"
      },
      "execution_count": 3,
      "outputs": [
        {
          "output_type": "stream",
          "name": "stdout",
          "text": [
            "Baseline ROC AUC (validation): 0.7139\n",
            "submission_baseline.csv created.\n"
          ]
        }
      ]
    },
    {
      "cell_type": "code",
      "source": [
        "import pandas as pd\n",
        "import numpy as np\n",
        "from sklearn.linear_model import LogisticRegression\n",
        "from sklearn.model_selection import train_test_split\n",
        "from sklearn.preprocessing import StandardScaler, OneHotEncoder\n",
        "from sklearn.metrics import roc_auc_score\n",
        "\n",
        "train = pd.read_csv(\"application_train.csv\")\n",
        "test = pd.read_csv(\"application_test.csv\")\n",
        "\n",
        "# Preprocess\n",
        "for df in [train, test]:\n",
        "    df['OWN_CAR_NUM'] = df['FLAG_OWN_CAR'].map({'N': 0, 'Y': 1})\n",
        "    df['OWN_REALTY_NUM'] = df['FLAG_OWN_REALTY'].map({'N': 0, 'Y': 1})\n",
        "    numeric = df.select_dtypes(include='number').columns.tolist()\n",
        "    df[numeric] = df[numeric].fillna(0)\n",
        "\n",
        "# Base numeric features\n",
        "numeric_cols = train.select_dtypes(include='number').columns.tolist()\n",
        "if 'TARGET' in numeric_cols:\n",
        "    numeric_cols.remove('TARGET')\n",
        "corrs = train[numeric_cols + ['TARGET']].corr()['TARGET'].abs().drop('TARGET')\n",
        "base_K = 30\n",
        "base_features = corrs.sort_values(ascending=False).head(base_K).index.tolist()\n",
        "\n",
        "for core in ['AMT_INCOME_TOTAL', 'AMT_CREDIT', 'AMT_ANNUITY', 'DAYS_BIRTH']:\n",
        "    if core in train.columns and core not in base_features:\n",
        "        base_features.append(core)\n",
        "\n",
        "patterns = {}\n",
        "patterns['Pattern 1'] = base_features.copy()\n",
        "\n",
        "# Pattern 2\n",
        "train = pd.concat([train, pd.DataFrame({'DEBT_RATIO': train['AMT_CREDIT'] / (train['AMT_INCOME_TOTAL'] + 1)})], axis=1)\n",
        "test = pd.concat([test, pd.DataFrame({'DEBT_RATIO': test['AMT_CREDIT'] / (test['AMT_INCOME_TOTAL'] + 1)})], axis=1)\n",
        "patterns['Pattern 2'] = patterns['Pattern 1'] + ['DEBT_RATIO']\n",
        "\n",
        "# Pattern 3\n",
        "for col in ['EXT_SOURCE_1', 'EXT_SOURCE_2', 'EXT_SOURCE_3']:\n",
        "    if col not in train.columns:\n",
        "        train[col] = 0\n",
        "        test[col] = 0\n",
        "patterns['Pattern 3'] = patterns['Pattern 2'] + ['EXT_SOURCE_1', 'EXT_SOURCE_2', 'EXT_SOURCE_3']\n",
        "\n",
        "# Pattern 4\n",
        "train = pd.concat([train, pd.DataFrame({'AGE_YEARS': train['DAYS_BIRTH'] / -365.25})], axis=1)\n",
        "test = pd.concat([test, pd.DataFrame({'AGE_YEARS': test['DAYS_BIRTH'] / -365.25})], axis=1)\n",
        "patterns['Pattern 4'] = patterns['Pattern 3'] + ['AGE_YEARS']\n",
        "\n",
        "# Pattern 5\n",
        "categorical = ['CODE_GENDER', 'NAME_CONTRACT_TYPE']\n",
        "ohe = OneHotEncoder(sparse_output=False, handle_unknown='ignore')\n",
        "train_ohe = pd.DataFrame(ohe.fit_transform(train[categorical]), columns=ohe.get_feature_names_out(), index=train.index)\n",
        "test_ohe = pd.DataFrame(ohe.transform(test[categorical]), columns=ohe.get_feature_names_out(), index=test.index)\n",
        "train = pd.concat([train.reset_index(drop=True), train_ohe.reset_index(drop=True)], axis=1)\n",
        "test = pd.concat([test.reset_index(drop=True), test_ohe.reset_index(drop=True)], axis=1)\n",
        "patterns['Pattern 5'] = patterns['Pattern 4'] + list(train_ohe.columns)\n",
        "\n",
        "# Evaluate each pattern\n",
        "results = {}\n",
        "TRAIN_SAMPLE_SIZE = 90000\n",
        "for name, feats in patterns.items():\n",
        "    X = train[feats]\n",
        "    y = train['TARGET']\n",
        "\n",
        "    if len(X) > TRAIN_SAMPLE_SIZE:\n",
        "        idx = train.sample(n=TRAIN_SAMPLE_SIZE, random_state=42).index\n",
        "        X = X.loc[idx]\n",
        "        y = y.loc[idx]\n",
        "\n",
        "    X_train, X_val, y_train, y_val = train_test_split(X, y, test_size=0.2, random_state=42)\n",
        "\n",
        "    scaler = StandardScaler()\n",
        "    X_train_scaled = scaler.fit_transform(X_train)\n",
        "    X_val_scaled = scaler.transform(X_val)\n",
        "\n",
        "    model = LogisticRegression(solver='saga', penalty='l2', C=0.5, max_iter=1000, tol=1e-4, n_jobs=-1)\n",
        "    model.fit(X_train_scaled, y_train)\n",
        "\n",
        "    val_probs = model.predict_proba(X_val_scaled)[:, 1]\n",
        "    roc = roc_auc_score(y_val, val_probs)\n",
        "    results[name] = {'roc': roc, 'features': feats}\n",
        "    print(f\"{name}: ROC AUC = {roc:.4f}  (features: {len(feats)})\")\n",
        "\n",
        "# Select best pattern\n",
        "best_name = max(results, key=lambda k: results[k]['roc'])\n",
        "best_feats = results[best_name]['features']\n",
        "print(f\"\\nBest pattern: {best_name}  =>  ROC AUC = {results[best_name]['roc']:.4f}\")\n",
        "\n",
        "# Train final model\n",
        "FINAL_TRAIN_SIZE = 140000\n",
        "X_full = train[best_feats]\n",
        "y_full = train['TARGET']\n",
        "if len(X_full) > FINAL_TRAIN_SIZE:\n",
        "    idx = train.sample(n=FINAL_TRAIN_SIZE, random_state=7).index\n",
        "    X_full = X_full.loc[idx]\n",
        "    y_full = y_full.loc[idx]\n",
        "\n",
        "scaler = StandardScaler()\n",
        "X_full_scaled = scaler.fit_transform(X_full)\n",
        "X_test_final = test[best_feats].fillna(0)\n",
        "X_test_scaled = scaler.transform(X_test_final)\n",
        "\n",
        "final_model = LogisticRegression(solver='saga', penalty='l2', C=0.5, max_iter=1000, tol=1e-4, n_jobs=-1)\n",
        "final_model.fit(X_full_scaled, y_full)\n",
        "\n",
        "test_probs = final_model.predict_proba(X_test_scaled)[:, 1]\n",
        "submission = pd.DataFrame({'SK_ID_CURR': test['SK_ID_CURR'], 'TARGET': test_probs})\n",
        "submission.to_csv(\"submission_best_pattern.csv\", index=False)\n",
        "print(\"submission_best_pattern.csv created\")\n"
      ],
      "metadata": {
        "colab": {
          "base_uri": "https://localhost:8080/"
        },
        "id": "rAuJVpq9iT67",
        "outputId": "d531f7a0-ccf7-4485-fe4d-b1f0d8fadaf2"
      },
      "execution_count": 8,
      "outputs": [
        {
          "output_type": "stream",
          "name": "stderr",
          "text": [
            "/usr/local/lib/python3.12/dist-packages/sklearn/linear_model/_sag.py:348: ConvergenceWarning: The max_iter was reached which means the coef_ did not converge\n",
            "  warnings.warn(\n"
          ]
        },
        {
          "output_type": "stream",
          "name": "stdout",
          "text": [
            "Pattern 1: ROC AUC = 0.7041  (features: 33)\n"
          ]
        },
        {
          "output_type": "stream",
          "name": "stderr",
          "text": [
            "/usr/local/lib/python3.12/dist-packages/sklearn/linear_model/_sag.py:348: ConvergenceWarning: The max_iter was reached which means the coef_ did not converge\n",
            "  warnings.warn(\n"
          ]
        },
        {
          "output_type": "stream",
          "name": "stdout",
          "text": [
            "Pattern 2: ROC AUC = 0.7045  (features: 34)\n"
          ]
        },
        {
          "output_type": "stream",
          "name": "stderr",
          "text": [
            "/usr/local/lib/python3.12/dist-packages/sklearn/linear_model/_sag.py:348: ConvergenceWarning: The max_iter was reached which means the coef_ did not converge\n",
            "  warnings.warn(\n"
          ]
        },
        {
          "output_type": "stream",
          "name": "stdout",
          "text": [
            "Pattern 3: ROC AUC = 0.7045  (features: 37)\n"
          ]
        },
        {
          "output_type": "stream",
          "name": "stderr",
          "text": [
            "/usr/local/lib/python3.12/dist-packages/sklearn/linear_model/_sag.py:348: ConvergenceWarning: The max_iter was reached which means the coef_ did not converge\n",
            "  warnings.warn(\n"
          ]
        },
        {
          "output_type": "stream",
          "name": "stdout",
          "text": [
            "Pattern 4: ROC AUC = 0.7045  (features: 38)\n"
          ]
        },
        {
          "output_type": "stream",
          "name": "stderr",
          "text": [
            "/usr/local/lib/python3.12/dist-packages/sklearn/linear_model/_sag.py:348: ConvergenceWarning: The max_iter was reached which means the coef_ did not converge\n",
            "  warnings.warn(\n"
          ]
        },
        {
          "output_type": "stream",
          "name": "stdout",
          "text": [
            "Pattern 5: ROC AUC = 0.7088  (features: 43)\n",
            "\n",
            "Best pattern: Pattern 5  =>  ROC AUC = 0.7088\n",
            "submission_best_pattern.csv created\n"
          ]
        },
        {
          "output_type": "stream",
          "name": "stderr",
          "text": [
            "/usr/local/lib/python3.12/dist-packages/sklearn/linear_model/_sag.py:348: ConvergenceWarning: The max_iter was reached which means the coef_ did not converge\n",
            "  warnings.warn(\n"
          ]
        }
      ]
    },
    {
      "cell_type": "code",
      "source": [],
      "metadata": {
        "id": "wFq8laSzn8vM"
      },
      "execution_count": null,
      "outputs": []
    }
  ]
}